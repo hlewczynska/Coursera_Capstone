{
    "cells": [
        {
            "cell_type": "markdown",
            "metadata": {},
            "source": "# Clustering Toronto Neighbourhoods"
        },
        {
            "cell_type": "code",
            "execution_count": 163,
            "metadata": {},
            "outputs": [],
            "source": "# Import required libraries\n\nimport pandas as pd\nimport requests\nfrom bs4 import BeautifulSoup\n\n# scrape the html content\nURL = 'https://en.wikipedia.org/wiki/List_of_postal_codes_of_Canada:_M'\npage = requests.get(URL)\n\n# Create beautiful soup object\nsoup = BeautifulSoup(page.content, 'html.parser')"
        },
        {
            "cell_type": "code",
            "execution_count": 170,
            "metadata": {},
            "outputs": [
                {
                    "data": {
                        "text/plain": "(103, 3)"
                    },
                    "execution_count": 170,
                    "metadata": {},
                    "output_type": "execute_result"
                }
            ],
            "source": "table_contents=[]\ntable=soup.find('table')\nfor row in table.findAll('td'):\n    cell = {}\n    if row.span.text=='Not assigned':\n        pass\n    else:\n        cell['PostalCode'] = row.p.text[:3]\n        cell['Borough'] = (row.span.text).split('(')[0]\n        cell['Neighborhood'] = (((((row.span.text).split('(')[1]).strip(')')).replace(' /',',')).replace(')',' ')).strip(' ')\n        table_contents.append(cell)\n\n#print(table_contents)\ndf=pd.DataFrame(table_contents)\ndf['Borough']=df['Borough'].replace({'Downtown TorontoStn A PO Boxes25 The Esplanade':'Downtown Toronto Stn A',\n                                             'East TorontoBusiness reply mail Processing Centre969 Eastern':'East Toronto Business',\n                                             'EtobicokeNorthwest':'Etobicoke Northwest','East YorkEast Toronto':'East York/East Toronto',\n                                             'MississaugaCanada Post Gateway Processing Centre':'Mississauga'})\n#df.head(4)\ndf.shape"
        }
    ],
    "metadata": {
        "kernelspec": {
            "display_name": "Python 3.7",
            "language": "python",
            "name": "python3"
        },
        "language_info": {
            "codemirror_mode": {
                "name": "ipython",
                "version": 3
            },
            "file_extension": ".py",
            "mimetype": "text/x-python",
            "name": "python",
            "nbconvert_exporter": "python",
            "pygments_lexer": "ipython3",
            "version": "3.7.10"
        }
    },
    "nbformat": 4,
    "nbformat_minor": 1
}