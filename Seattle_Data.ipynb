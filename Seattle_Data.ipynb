{
    "cells": [
        {
            "cell_type": "markdown",
            "metadata": {
                "collapsed": true
            },
            "source": "## Data\n\nFor this project I have used the following datasets:\n\n1. Seattle neighborhood data with latitude and longitude coordinates\n\n2. Foursquare location data: Most common categories\n\n3. Dataset on pet licences in Seattle\n\nIn the next section i will describe preliminary data importing and preparation.\n\nBefore we start, lets import all necessary libraries and setup our forsquare IDs:"
        },
        {
            "cell_type": "code",
            "execution_count": 1,
            "metadata": {},
            "outputs": [
                {
                    "name": "stdout",
                    "output_type": "stream",
                    "text": "/opt/conda/envs/Python-3.7-main/lib/python3.7/site-packages/secretstorage/dhcrypto.py:16: CryptographyDeprecationWarning: int_from_bytes is deprecated, use int.from_bytes instead\n  from cryptography.utils import int_from_bytes\n/opt/conda/envs/Python-3.7-main/lib/python3.7/site-packages/secretstorage/util.py:25: CryptographyDeprecationWarning: int_from_bytes is deprecated, use int.from_bytes instead\n  from cryptography.utils import int_from_bytes\nRequirement already satisfied: geopy in /opt/conda/envs/Python-3.7-main/lib/python3.7/site-packages (2.0.0)\nRequirement already satisfied: geographiclib<2,>=1.49 in /opt/conda/envs/Python-3.7-main/lib/python3.7/site-packages (from geopy) (1.50)\n/opt/conda/envs/Python-3.7-main/lib/python3.7/site-packages/secretstorage/dhcrypto.py:16: CryptographyDeprecationWarning: int_from_bytes is deprecated, use int.from_bytes instead\n  from cryptography.utils import int_from_bytes\n/opt/conda/envs/Python-3.7-main/lib/python3.7/site-packages/secretstorage/util.py:25: CryptographyDeprecationWarning: int_from_bytes is deprecated, use int.from_bytes instead\n  from cryptography.utils import int_from_bytes\nCollecting folium==0.5.0\n  Downloading folium-0.5.0.tar.gz (79 kB)\n\u001b[K     |\u2588\u2588\u2588\u2588\u2588\u2588\u2588\u2588\u2588\u2588\u2588\u2588\u2588\u2588\u2588\u2588\u2588\u2588\u2588\u2588\u2588\u2588\u2588\u2588\u2588\u2588\u2588\u2588\u2588\u2588\u2588\u2588| 79 kB 11.3 MB/s eta 0:00:01\n\u001b[?25hCollecting branca\n  Downloading branca-0.4.2-py3-none-any.whl (24 kB)\nRequirement already satisfied: jinja2 in /opt/conda/envs/Python-3.7-main/lib/python3.7/site-packages (from folium==0.5.0) (2.11.3)\nRequirement already satisfied: requests in /opt/conda/envs/Python-3.7-main/lib/python3.7/site-packages (from folium==0.5.0) (2.24.0)\nRequirement already satisfied: six in /opt/conda/envs/Python-3.7-main/lib/python3.7/site-packages (from folium==0.5.0) (1.15.0)\nRequirement already satisfied: MarkupSafe>=0.23 in /opt/conda/envs/Python-3.7-main/lib/python3.7/site-packages (from jinja2->folium==0.5.0) (1.1.1)\nRequirement already satisfied: chardet<4,>=3.0.2 in /opt/conda/envs/Python-3.7-main/lib/python3.7/site-packages (from requests->folium==0.5.0) (3.0.4)\nRequirement already satisfied: idna<3,>=2.5 in /opt/conda/envs/Python-3.7-main/lib/python3.7/site-packages (from requests->folium==0.5.0) (2.9)\nRequirement already satisfied: certifi>=2017.4.17 in /opt/conda/envs/Python-3.7-main/lib/python3.7/site-packages (from requests->folium==0.5.0) (2020.12.5)\nRequirement already satisfied: urllib3!=1.25.0,!=1.25.1,<1.26,>=1.21.1 in /opt/conda/envs/Python-3.7-main/lib/python3.7/site-packages (from requests->folium==0.5.0) (1.25.9)\nBuilding wheels for collected packages: folium\n  Building wheel for folium (setup.py) ... \u001b[?25ldone\n\u001b[?25h  Created wheel for folium: filename=folium-0.5.0-py3-none-any.whl size=76240 sha256=bca2dd363ee39d4c97e935fec4ea2759bde253330b8a7d5c483b4fd9e484c46a\n  Stored in directory: /tmp/wsuser/.cache/pip/wheels/b2/2f/2c/109e446b990d663ea5ce9b078b5e7c1a9c45cca91f377080f8\nSuccessfully built folium\nInstalling collected packages: branca, folium\nSuccessfully installed branca-0.4.2 folium-0.5.0\nFolium installed\nLibraries imported.\nYour credentails:\nCLIENT_ID: J2VNJFAYIYLLMUX0BP25WE1WMWUQOKRASOM0TDWHJIV0NMUG\nCLIENT_SECRET:GXRQDD3VXGVRVSN4JGGPEJN1TTLSE3EMML5ZK4KTWVDCBFW2\n"
                }
            ],
            "source": "import requests # library to handle requests\nimport pandas as pd # library for data analsysis\nimport numpy as np # library to handle data in a vectorized manner\nimport random # library for random number generation\n\n!pip install geopy\nfrom geopy.geocoders import Nominatim # module to convert an address into latitude and longitude values\n\n# libraries for displaying images\nfrom IPython.display import Image \nfrom IPython.core.display import HTML \n    \n# tranforming json file into a pandas dataframe library\nfrom pandas.io.json import json_normalize\n\n! pip install folium==0.5.0\nimport folium # plotting library\n\nprint('Folium installed')\nprint('Libraries imported.')\n\n# Setting up IDs for foursquare\n\nCLIENT_ID = 'J2VNJFAYIYLLMUX0BP25WE1WMWUQOKRASOM0TDWHJIV0NMUG' # your Foursquare ID\nCLIENT_SECRET = 'GXRQDD3VXGVRVSN4JGGPEJN1TTLSE3EMML5ZK4KTWVDCBFW2' # your Foursquare Secret\nACCESS_TOKEN = 'EW4X4KIJXWWJ5HCRXYBYL2YAYXJRBT4GAPIOTBF5LOC1ZCQF' # your FourSquare Access Token\nVERSION = '20180604'\nLIMIT = 30\nprint('Your credentails:')\nprint('CLIENT_ID: ' + CLIENT_ID)\nprint('CLIENT_SECRET:' + CLIENT_SECRET)"
        },
        {
            "cell_type": "code",
            "execution_count": 2,
            "metadata": {},
            "outputs": [
                {
                    "data": {
                        "text/html": "<div>\n<style scoped>\n    .dataframe tbody tr th:only-of-type {\n        vertical-align: middle;\n    }\n\n    .dataframe tbody tr th {\n        vertical-align: top;\n    }\n\n    .dataframe thead th {\n        text-align: right;\n    }\n</style>\n<table border=\"1\" class=\"dataframe\">\n  <thead>\n    <tr style=\"text-align: right;\">\n      <th></th>\n      <th>Zipcode</th>\n      <th>Neighborhood</th>\n    </tr>\n  </thead>\n  <tbody>\n    <tr>\n      <th>0</th>\n      <td>98003</td>\n      <td>Federal Way</td>\n    </tr>\n    <tr>\n      <th>1</th>\n      <td>98005</td>\n      <td>Bellevue</td>\n    </tr>\n    <tr>\n      <th>2</th>\n      <td>98033</td>\n      <td>Kirkland</td>\n    </tr>\n    <tr>\n      <th>3</th>\n      <td>98037</td>\n      <td>Lynnwood</td>\n    </tr>\n    <tr>\n      <th>4</th>\n      <td>98040</td>\n      <td>Mercer Island</td>\n    </tr>\n  </tbody>\n</table>\n</div>",
                        "text/plain": "   Zipcode    Neighborhood\n0    98003    Federal Way \n1    98005      Bellevue  \n2    98033      Kirkland  \n3    98037      Lynnwood  \n4    98040  Mercer Island "
                    },
                    "execution_count": 2,
                    "metadata": {},
                    "output_type": "execute_result"
                }
            ],
            "source": "# The code was removed by Watson Studio for sharing."
        },
        {
            "cell_type": "code",
            "execution_count": 3,
            "metadata": {},
            "outputs": [
                {
                    "data": {
                        "text/html": "<div>\n<style scoped>\n    .dataframe tbody tr th:only-of-type {\n        vertical-align: middle;\n    }\n\n    .dataframe tbody tr th {\n        vertical-align: top;\n    }\n\n    .dataframe thead th {\n        text-align: right;\n    }\n</style>\n<table border=\"1\" class=\"dataframe\">\n  <thead>\n    <tr style=\"text-align: right;\">\n      <th></th>\n      <th>Zipcode</th>\n      <th>Latitude</th>\n      <th>Longitude</th>\n    </tr>\n  </thead>\n  <tbody>\n    <tr>\n      <th>0</th>\n      <td>501</td>\n      <td>40.81</td>\n      <td>-73.04</td>\n    </tr>\n    <tr>\n      <th>1</th>\n      <td>544</td>\n      <td>40.81</td>\n      <td>-73.04</td>\n    </tr>\n    <tr>\n      <th>2</th>\n      <td>601</td>\n      <td>18.16</td>\n      <td>-66.72</td>\n    </tr>\n    <tr>\n      <th>3</th>\n      <td>602</td>\n      <td>18.38</td>\n      <td>-67.18</td>\n    </tr>\n    <tr>\n      <th>4</th>\n      <td>603</td>\n      <td>18.43</td>\n      <td>-67.15</td>\n    </tr>\n  </tbody>\n</table>\n</div>",
                        "text/plain": "   Zipcode  Latitude  Longitude\n0      501     40.81     -73.04\n1      544     40.81     -73.04\n2      601     18.16     -66.72\n3      602     18.38     -67.18\n4      603     18.43     -67.15"
                    },
                    "execution_count": 3,
                    "metadata": {},
                    "output_type": "execute_result"
                }
            ],
            "source": "# Import US zip code database\n\nbody = client_7090f49ae7784ed7b279229f4ce3b604.get_object(Bucket='helenax27sproject-donotdelete-pr-2wln2ucz6htuks',Key='zip_code_database.csv')['Body']\n# add missing __iter__ method, so pandas accepts body as file-like object\nif not hasattr(body, \"__iter__\"): body.__iter__ = types.MethodType( __iter__, body )\n\ndf = pd.read_csv(body)\ndf = df[['zip', 'latitude', 'longitude']]\ndf.rename(columns = {'zip':'Zipcode', 'latitude': 'Latitude', 'longitude':'Longitude' }, inplace=True)\ndf.head()"
        },
        {
            "cell_type": "markdown",
            "metadata": {},
            "source": "In order to plot the neighbourhoods on a map, i need to merge the latitude and longitude data to the Neighbourhood names. I do this my merging on the Zipcode column of both datasets:"
        },
        {
            "cell_type": "code",
            "execution_count": 4,
            "metadata": {},
            "outputs": [
                {
                    "data": {
                        "text/html": "<div>\n<style scoped>\n    .dataframe tbody tr th:only-of-type {\n        vertical-align: middle;\n    }\n\n    .dataframe tbody tr th {\n        vertical-align: top;\n    }\n\n    .dataframe thead th {\n        text-align: right;\n    }\n</style>\n<table border=\"1\" class=\"dataframe\">\n  <thead>\n    <tr style=\"text-align: right;\">\n      <th></th>\n      <th>Zipcode</th>\n      <th>Latitude</th>\n      <th>Longitude</th>\n      <th>Neighborhood</th>\n    </tr>\n  </thead>\n  <tbody>\n    <tr>\n      <th>20</th>\n      <td>98110</td>\n      <td>47.64</td>\n      <td>-122.53</td>\n      <td>Bainbridge Island</td>\n    </tr>\n    <tr>\n      <th>17</th>\n      <td>98107</td>\n      <td>47.67</td>\n      <td>-122.38</td>\n      <td>Ballard</td>\n    </tr>\n    <tr>\n      <th>1</th>\n      <td>98005</td>\n      <td>47.62</td>\n      <td>-122.16</td>\n      <td>Bellevue</td>\n    </tr>\n    <tr>\n      <th>25</th>\n      <td>98121</td>\n      <td>47.62</td>\n      <td>-122.35</td>\n      <td>Belltown</td>\n    </tr>\n    <tr>\n      <th>9</th>\n      <td>98102</td>\n      <td>47.63</td>\n      <td>-122.32</td>\n      <td>Capital Hill</td>\n    </tr>\n  </tbody>\n</table>\n</div>",
                        "text/plain": "    Zipcode  Latitude  Longitude        Neighborhood\n20    98110     47.64    -122.53  Bainbridge Island \n17    98107     47.67    -122.38           Ballard  \n1     98005     47.62    -122.16          Bellevue  \n25    98121     47.62    -122.35          Belltown  \n9     98102     47.63    -122.32       Capital Hill "
                    },
                    "execution_count": 4,
                    "metadata": {},
                    "output_type": "execute_result"
                }
            ],
            "source": "neighborhoods = pd.merge(df, seattle_zips, on=\"Zipcode\")\nneighborhoods = neighborhoods.drop_duplicates(subset='Zipcode', keep=\"first\")\nneighborhoods.sort_values(by=['Neighborhood'], inplace=True)\nneighborhoods.head()"
        },
        {
            "cell_type": "markdown",
            "metadata": {},
            "source": "### Foursquare location data\n\nNow I will use the Foursquare API to identify venues in each neighborhood which I like the best. For generating the nearby venues, i have chosen a radius of 2km and limit to the top 80 venues."
        },
        {
            "cell_type": "code",
            "execution_count": 6,
            "metadata": {},
            "outputs": [],
            "source": "# function to loop each neighborhood and get the 80 venues within 2km.\n\ndef getNearbyVenues(names, latitudes, longitudes, radius=2000, LIMIT = 80):\n    \n    venues_list=[]\n    for name, lat, lng in zip(names, latitudes, longitudes):  \n        # create the API request URL\n        url = 'https://api.foursquare.com/v2/venues/explore?&client_id={}&client_secret={}&v={}&ll={},{}&radius={}&limit={}'.format(\n            CLIENT_ID, \n            CLIENT_SECRET, \n            VERSION, \n            lat, \n            lng, \n            radius, \n            LIMIT)\n            \n        # make the GET request\n        results = requests.get(url).json()[\"response\"]['groups'][0]['items']\n        \n        # return only relevant information for each nearby venue\n        venues_list.append([(\n            name, \n            lat, \n            lng, \n            v['venue']['name'], \n            v['venue']['location']['lat'], \n            v['venue']['location']['lng'],  \n            v['venue']['categories'][0]['name']) for v in results])\n        \n    nearby_venues = pd.DataFrame([item for venue_list in venues_list for item in venue_list])\n    nearby_venues.columns = ['Neighborhood', \n                  'Neighborhood Latitude', \n                  'Neighborhood Longitude', \n                  'Venue', \n                  'Venue Latitude', \n                  'Venue Longitude', \n                  'Venue Category']\n    \n    return(nearby_venues)"
        },
        {
            "cell_type": "code",
            "execution_count": 7,
            "metadata": {},
            "outputs": [
                {
                    "data": {
                        "text/html": "<div>\n<style scoped>\n    .dataframe tbody tr th:only-of-type {\n        vertical-align: middle;\n    }\n\n    .dataframe tbody tr th {\n        vertical-align: top;\n    }\n\n    .dataframe thead th {\n        text-align: right;\n    }\n</style>\n<table border=\"1\" class=\"dataframe\">\n  <thead>\n    <tr style=\"text-align: right;\">\n      <th></th>\n      <th>Neighborhood</th>\n      <th>Neighborhood Latitude</th>\n      <th>Neighborhood Longitude</th>\n      <th>Venue</th>\n      <th>Venue Latitude</th>\n      <th>Venue Longitude</th>\n      <th>Venue Category</th>\n    </tr>\n  </thead>\n  <tbody>\n    <tr>\n      <th>0</th>\n      <td>Bainbridge Island</td>\n      <td>47.64</td>\n      <td>-122.53</td>\n      <td>Storyville Coffee Roasting Studio</td>\n      <td>47.648323</td>\n      <td>-122.523960</td>\n      <td>Coffee Shop</td>\n    </tr>\n    <tr>\n      <th>1</th>\n      <td>Bainbridge Island</td>\n      <td>47.64</td>\n      <td>-122.53</td>\n      <td>Fletcher Bay Winery</td>\n      <td>47.648285</td>\n      <td>-122.525015</td>\n      <td>Wine Bar</td>\n    </tr>\n    <tr>\n      <th>2</th>\n      <td>Bainbridge Island</td>\n      <td>47.64</td>\n      <td>-122.53</td>\n      <td>Bainbridge Island Brewing</td>\n      <td>47.648299</td>\n      <td>-122.525042</td>\n      <td>Brewery</td>\n    </tr>\n    <tr>\n      <th>3</th>\n      <td>Bainbridge Island</td>\n      <td>47.64</td>\n      <td>-122.53</td>\n      <td>Jake's Pickup</td>\n      <td>47.636094</td>\n      <td>-122.516740</td>\n      <td>Caf\u00e9</td>\n    </tr>\n    <tr>\n      <th>4</th>\n      <td>Bainbridge Island</td>\n      <td>47.64</td>\n      <td>-122.53</td>\n      <td>Bainbridge Island Aquatic Center</td>\n      <td>47.638323</td>\n      <td>-122.522930</td>\n      <td>Gym Pool</td>\n    </tr>\n  </tbody>\n</table>\n</div>",
                        "text/plain": "         Neighborhood  Neighborhood Latitude  Neighborhood Longitude  \\\n0  Bainbridge Island                   47.64                 -122.53   \n1  Bainbridge Island                   47.64                 -122.53   \n2  Bainbridge Island                   47.64                 -122.53   \n3  Bainbridge Island                   47.64                 -122.53   \n4  Bainbridge Island                   47.64                 -122.53   \n\n                               Venue  Venue Latitude  Venue Longitude  \\\n0  Storyville Coffee Roasting Studio       47.648323      -122.523960   \n1                Fletcher Bay Winery       47.648285      -122.525015   \n2          Bainbridge Island Brewing       47.648299      -122.525042   \n3                      Jake's Pickup       47.636094      -122.516740   \n4   Bainbridge Island Aquatic Center       47.638323      -122.522930   \n\n  Venue Category  \n0    Coffee Shop  \n1       Wine Bar  \n2        Brewery  \n3           Caf\u00e9  \n4       Gym Pool  "
                    },
                    "execution_count": 7,
                    "metadata": {},
                    "output_type": "execute_result"
                }
            ],
            "source": "# run the function above to get nearby venues for each neighborhood\n\nvenues = getNearbyVenues(names=neighborhoods['Neighborhood'],\n                        latitudes=neighborhoods['Latitude'],\n                        longitudes=neighborhoods['Longitude']\n                                  )\nvenues.head()"
        },
        {
            "cell_type": "code",
            "execution_count": 8,
            "metadata": {},
            "outputs": [
                {
                    "name": "stdout",
                    "output_type": "stream",
                    "text": "The venues dataset has 1562 rows and 7 columns.\n"
                }
            ],
            "source": "# view the size of venues dataset\n\nven_size = venues.shape\nprint('The venues dataset has {} rows and {} columns.'.format(ven_size[0], ven_size[1]))"
        },
        {
            "cell_type": "markdown",
            "metadata": {},
            "source": "### Seattle pet data\nFor the Seattle data on pets, I have used the The Open Data Program > https://data.seattle.gov/ < generated by the City of Seattle. This makes data openly available to the public for the purpose of increasing the quality of life for residents; increasing transparency, accountability and comparability; promoting economic development and research; and improving internal performance management.\n\nI found the following dataset avaliable: https://data.seattle.gov/Community/Seattle-Pet-Licenses/jguv-t9rb which is a list of active/current Seattle pet licenses, including animal type (species), pet's name, breed and the owner's ZIP code."
        },
        {
            "cell_type": "code",
            "execution_count": 9,
            "metadata": {},
            "outputs": [
                {
                    "data": {
                        "text/html": "<div>\n<style scoped>\n    .dataframe tbody tr th:only-of-type {\n        vertical-align: middle;\n    }\n\n    .dataframe tbody tr th {\n        vertical-align: top;\n    }\n\n    .dataframe thead th {\n        text-align: right;\n    }\n</style>\n<table border=\"1\" class=\"dataframe\">\n  <thead>\n    <tr style=\"text-align: right;\">\n      <th></th>\n      <th>License Issue Date</th>\n      <th>License Number</th>\n      <th>Animal's Name</th>\n      <th>Species</th>\n      <th>Primary Breed</th>\n      <th>Secondary Breed</th>\n      <th>Zipcode</th>\n    </tr>\n  </thead>\n  <tbody>\n    <tr>\n      <th>0</th>\n      <td>December 18 2015</td>\n      <td>S107948</td>\n      <td>Zen</td>\n      <td>Cat</td>\n      <td>Domestic Longhair</td>\n      <td>Mix</td>\n      <td>98117</td>\n    </tr>\n    <tr>\n      <th>13</th>\n      <td>May 16 2018</td>\n      <td>S126432</td>\n      <td>Chico</td>\n      <td>Cat</td>\n      <td>Domestic Shorthair</td>\n      <td>Mix</td>\n      <td>98122</td>\n    </tr>\n    <tr>\n      <th>15</th>\n      <td>July 10 2018</td>\n      <td>85322</td>\n      <td>Zen</td>\n      <td>Cat</td>\n      <td>Domestic Shorthair</td>\n      <td>Siamese</td>\n      <td>98105</td>\n    </tr>\n    <tr>\n      <th>16</th>\n      <td>August 13 2018</td>\n      <td>578368</td>\n      <td>Lucky</td>\n      <td>Cat</td>\n      <td>Oriental Shorthair</td>\n      <td>Mix</td>\n      <td>98106</td>\n    </tr>\n    <tr>\n      <th>17</th>\n      <td>August 30 2018</td>\n      <td>S121902</td>\n      <td>Buffy</td>\n      <td>Cat</td>\n      <td>Siamese</td>\n      <td>European Shorthair</td>\n      <td>98107</td>\n    </tr>\n  </tbody>\n</table>\n</div>",
                        "text/plain": "   License Issue Date License Number Animal's Name Species  \\\n0    December 18 2015        S107948           Zen     Cat   \n13        May 16 2018        S126432         Chico     Cat   \n15       July 10 2018          85322           Zen     Cat   \n16     August 13 2018         578368         Lucky     Cat   \n17     August 30 2018        S121902         Buffy     Cat   \n\n         Primary Breed     Secondary Breed  Zipcode  \n0    Domestic Longhair                 Mix    98117  \n13  Domestic Shorthair                 Mix    98122  \n15  Domestic Shorthair             Siamese    98105  \n16  Oriental Shorthair                 Mix    98106  \n17             Siamese  European Shorthair    98107  "
                    },
                    "execution_count": 9,
                    "metadata": {},
                    "output_type": "execute_result"
                }
            ],
            "source": "# Importing the dataset\n\nbody = client_7090f49ae7784ed7b279229f4ce3b604.get_object(Bucket='helenax27sproject-donotdelete-pr-2wln2ucz6htuks',Key='Seattle_Pet_Licenses.csv')['Body']\n# add missing __iter__ method, so pandas accepts body as file-like object\nif not hasattr(body, \"__iter__\"): body.__iter__ = types.MethodType( __iter__, body )\n\n# Leave only rows with dogs, remove NaN's and rename ZIP Code for later merging\n    \npets = pd.read_csv(body)\npets.head()\npets.rename(columns = {'ZIP Code':'Zipcode'}, inplace=True)\npets = pets.dropna()\npets['Zipcode'] = pets['Zipcode'].astype(int)\npets.head()"
        }
    ],
    "metadata": {
        "kernelspec": {
            "display_name": "Python 3.7",
            "language": "python",
            "name": "python3"
        },
        "language_info": {
            "codemirror_mode": {
                "name": "ipython",
                "version": 3
            },
            "file_extension": ".py",
            "mimetype": "text/x-python",
            "name": "python",
            "nbconvert_exporter": "python",
            "pygments_lexer": "ipython3",
            "version": "3.7.10"
        }
    },
    "nbformat": 4,
    "nbformat_minor": 1
}